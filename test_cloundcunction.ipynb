{
 "cells": [
  {
   "cell_type": "code",
   "execution_count": 2,
   "metadata": {},
   "outputs": [],
   "source": [
    "from class_Handle_Upload_MetaAndTXT import Handle_Upload_MetaAndTXT\n",
    "from class_gen_text import doc_gen_text\n",
    "# Triggered by a change in a storage bucket\n",
    "projectID = \"rlpd-loxleyorbit\"\n",
    "target_triger_path =\"upload_test/\"\n",
    "blob_meta_path = \"METADATA_preprocessed_file\"\n",
    "blob_txt_path = \"PREPROCESSED_file\"\n",
    "\n",
    "# bucket_name = \"dev_pun_preprocess\"\n",
    "# blob_path = \"upload_test/001_จังหวัดปราจีนบุรี_พร้อมเอกสารแนบ.pdf\"\n",
    "\n",
    "\n",
    "def control_event(cloud_event):\n",
    "    data = cloud_event.data\n",
    "    \n",
    "    bucket_name = data[\"bucket\"] #bucket\n",
    "    blob_path = data[\"name\"] #path\n",
    "    if blob_path.startswith(f\"{target_triger_path}/\") is True:\n",
    "        print(\"start process :\" , blob_path)\n",
    "        page = doc_gen_text(projectID = projectID, \n",
    "                            bucket_name = bucket_name,\n",
    "                            blob_path = blob_path,\n",
    "                            )\n",
    "        page.process_OCR()\n",
    "        \n",
    "        upload = Handle_Upload_MetaAndTXT(blob_txt_path = blob_txt_path,\n",
    "                             blob_origi_path = blob_path,\n",
    "                             blob_meta_path = \"blob_meta_path\"\n",
    "                             )\n",
    "        upload.set_params_dict(page.create_params_dict().copy())\n",
    "        upload.generate_metadata()\n",
    "        upload.upload_txt2bucket()\n",
    "        upload.upload_meta2bucket()\n",
    "        \n",
    "\n"
   ]
  }
 ],
 "metadata": {
  "kernelspec": {
   "display_name": "Python 3",
   "language": "python",
   "name": "python3"
  },
  "language_info": {
   "codemirror_mode": {
    "name": "ipython",
    "version": 3
   },
   "file_extension": ".py",
   "mimetype": "text/x-python",
   "name": "python",
   "nbconvert_exporter": "python",
   "pygments_lexer": "ipython3",
   "version": "3.11.6"
  }
 },
 "nbformat": 4,
 "nbformat_minor": 2
}
